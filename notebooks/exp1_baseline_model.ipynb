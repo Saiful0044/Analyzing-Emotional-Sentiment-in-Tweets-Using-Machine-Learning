{
 "cells": [
  {
   "cell_type": "code",
   "execution_count": 1,
   "id": "99b77a35",
   "metadata": {
    "execution": {
     "iopub.execute_input": "2025-06-16T01:42:05.658526Z",
     "iopub.status.busy": "2025-06-16T01:42:05.658526Z",
     "iopub.status.idle": "2025-06-16T01:42:14.865973Z",
     "shell.execute_reply": "2025-06-16T01:42:14.862975Z"
    }
   },
   "outputs": [
    {
     "name": "stderr",
     "output_type": "stream",
     "text": [
      "C:\\Users\\Saiful\\anaconda3\\lib\\site-packages\\numpy\\_distributor_init.py:30: UserWarning: loaded more than 1 DLL from .libs:\n",
      "C:\\Users\\Saiful\\anaconda3\\lib\\site-packages\\numpy\\.libs\\libopenblas.FB5AE2TYXYH2IJRDKGDGQ3XBKLKTF43H.gfortran-win_amd64.dll\n",
      "C:\\Users\\Saiful\\anaconda3\\lib\\site-packages\\numpy\\.libs\\libopenblas64__v0.3.21-gcc_10_3_0.dll\n",
      "  warnings.warn(\"loaded more than 1 DLL from .libs:\"\n"
     ]
    }
   ],
   "source": [
    "import mlflow\n",
    "import pandas as pd\n",
    "import mlflow.sklearn\n",
    "from sklearn.feature_extraction.text import CountVectorizer\n",
    "from sklearn.model_selection import train_test_split\n",
    "from sklearn.linear_model import LogisticRegression\n",
    "from sklearn.metrics import accuracy_score, precision_score, f1_score, recall_score\n",
    "import re\n",
    "import string \n",
    "import numpy as np"
   ]
  },
  {
   "cell_type": "code",
   "execution_count": 2,
   "id": "82bc0909",
   "metadata": {
    "execution": {
     "iopub.execute_input": "2025-06-16T01:42:14.876968Z",
     "iopub.status.busy": "2025-06-16T01:42:14.875967Z",
     "iopub.status.idle": "2025-06-16T01:42:18.706624Z",
     "shell.execute_reply": "2025-06-16T01:42:18.704627Z"
    }
   },
   "outputs": [
    {
     "data": {
      "text/html": [
       "<div>\n",
       "<style scoped>\n",
       "    .dataframe tbody tr th:only-of-type {\n",
       "        vertical-align: middle;\n",
       "    }\n",
       "\n",
       "    .dataframe tbody tr th {\n",
       "        vertical-align: top;\n",
       "    }\n",
       "\n",
       "    .dataframe thead th {\n",
       "        text-align: right;\n",
       "    }\n",
       "</style>\n",
       "<table border=\"1\" class=\"dataframe\">\n",
       "  <thead>\n",
       "    <tr style=\"text-align: right;\">\n",
       "      <th></th>\n",
       "      <th>sentiment</th>\n",
       "      <th>content</th>\n",
       "    </tr>\n",
       "  </thead>\n",
       "  <tbody>\n",
       "    <tr>\n",
       "      <th>0</th>\n",
       "      <td>empty</td>\n",
       "      <td>@tiffanylue i know  i was listenin to bad habi...</td>\n",
       "    </tr>\n",
       "    <tr>\n",
       "      <th>1</th>\n",
       "      <td>sadness</td>\n",
       "      <td>Layin n bed with a headache  ughhhh...waitin o...</td>\n",
       "    </tr>\n",
       "    <tr>\n",
       "      <th>2</th>\n",
       "      <td>sadness</td>\n",
       "      <td>Funeral ceremony...gloomy friday...</td>\n",
       "    </tr>\n",
       "    <tr>\n",
       "      <th>3</th>\n",
       "      <td>enthusiasm</td>\n",
       "      <td>wants to hang out with friends SOON!</td>\n",
       "    </tr>\n",
       "    <tr>\n",
       "      <th>4</th>\n",
       "      <td>neutral</td>\n",
       "      <td>@dannycastillo We want to trade with someone w...</td>\n",
       "    </tr>\n",
       "  </tbody>\n",
       "</table>\n",
       "</div>"
      ],
      "text/plain": [
       "    sentiment                                            content\n",
       "0       empty  @tiffanylue i know  i was listenin to bad habi...\n",
       "1     sadness  Layin n bed with a headache  ughhhh...waitin o...\n",
       "2     sadness                Funeral ceremony...gloomy friday...\n",
       "3  enthusiasm               wants to hang out with friends SOON!\n",
       "4     neutral  @dannycastillo We want to trade with someone w..."
      ]
     },
     "execution_count": 2,
     "metadata": {},
     "output_type": "execute_result"
    }
   ],
   "source": [
    "df = pd.read_csv('https://raw.githubusercontent.com/campusx-official/jupyter-masterclass/main/tweet_emotions.csv').drop(columns=['tweet_id'])\n",
    "df.head()"
   ]
  },
  {
   "cell_type": "code",
   "execution_count": 3,
   "id": "0cf4b882",
   "metadata": {
    "execution": {
     "iopub.execute_input": "2025-06-16T01:42:18.718617Z",
     "iopub.status.busy": "2025-06-16T01:42:18.717619Z",
     "iopub.status.idle": "2025-06-16T01:42:18.746602Z",
     "shell.execute_reply": "2025-06-16T01:42:18.743606Z"
    }
   },
   "outputs": [
    {
     "data": {
      "text/plain": [
       "sentiment\n",
       "neutral       8638\n",
       "worry         8459\n",
       "happiness     5209\n",
       "sadness       5165\n",
       "love          3842\n",
       "surprise      2187\n",
       "fun           1776\n",
       "relief        1526\n",
       "hate          1323\n",
       "empty          827\n",
       "enthusiasm     759\n",
       "boredom        179\n",
       "anger          110\n",
       "Name: count, dtype: int64"
      ]
     },
     "execution_count": 3,
     "metadata": {},
     "output_type": "execute_result"
    }
   ],
   "source": [
    "df['sentiment'].value_counts()"
   ]
  },
  {
   "cell_type": "code",
   "execution_count": 4,
   "id": "46330532",
   "metadata": {
    "execution": {
     "iopub.execute_input": "2025-06-16T01:42:18.755599Z",
     "iopub.status.busy": "2025-06-16T01:42:18.754598Z",
     "iopub.status.idle": "2025-06-16T01:42:18.773586Z",
     "shell.execute_reply": "2025-06-16T01:42:18.771588Z"
    }
   },
   "outputs": [],
   "source": [
    "x = df['sentiment'].isin(['happiness','sadness'])\n",
    "df = df[x]"
   ]
  },
  {
   "cell_type": "code",
   "execution_count": 5,
   "id": "1d3a5c3e",
   "metadata": {
    "execution": {
     "iopub.execute_input": "2025-06-16T01:42:18.787579Z",
     "iopub.status.busy": "2025-06-16T01:42:18.786580Z",
     "iopub.status.idle": "2025-06-16T01:42:18.833554Z",
     "shell.execute_reply": "2025-06-16T01:42:18.830555Z"
    }
   },
   "outputs": [
    {
     "data": {
      "text/html": [
       "<div>\n",
       "<style scoped>\n",
       "    .dataframe tbody tr th:only-of-type {\n",
       "        vertical-align: middle;\n",
       "    }\n",
       "\n",
       "    .dataframe tbody tr th {\n",
       "        vertical-align: top;\n",
       "    }\n",
       "\n",
       "    .dataframe thead th {\n",
       "        text-align: right;\n",
       "    }\n",
       "</style>\n",
       "<table border=\"1\" class=\"dataframe\">\n",
       "  <thead>\n",
       "    <tr style=\"text-align: right;\">\n",
       "      <th></th>\n",
       "      <th>sentiment</th>\n",
       "      <th>content</th>\n",
       "    </tr>\n",
       "  </thead>\n",
       "  <tbody>\n",
       "    <tr>\n",
       "      <th>1</th>\n",
       "      <td>0</td>\n",
       "      <td>Layin n bed with a headache  ughhhh...waitin o...</td>\n",
       "    </tr>\n",
       "    <tr>\n",
       "      <th>2</th>\n",
       "      <td>0</td>\n",
       "      <td>Funeral ceremony...gloomy friday...</td>\n",
       "    </tr>\n",
       "    <tr>\n",
       "      <th>6</th>\n",
       "      <td>0</td>\n",
       "      <td>I should be sleep, but im not! thinking about ...</td>\n",
       "    </tr>\n",
       "    <tr>\n",
       "      <th>8</th>\n",
       "      <td>0</td>\n",
       "      <td>@charviray Charlene my love. I miss you</td>\n",
       "    </tr>\n",
       "    <tr>\n",
       "      <th>9</th>\n",
       "      <td>0</td>\n",
       "      <td>@kelcouch I'm sorry  at least it's Friday?</td>\n",
       "    </tr>\n",
       "  </tbody>\n",
       "</table>\n",
       "</div>"
      ],
      "text/plain": [
       "   sentiment                                            content\n",
       "1          0  Layin n bed with a headache  ughhhh...waitin o...\n",
       "2          0                Funeral ceremony...gloomy friday...\n",
       "6          0  I should be sleep, but im not! thinking about ...\n",
       "8          0            @charviray Charlene my love. I miss you\n",
       "9          0         @kelcouch I'm sorry  at least it's Friday?"
      ]
     },
     "execution_count": 5,
     "metadata": {},
     "output_type": "execute_result"
    }
   ],
   "source": [
    "df['sentiment'] = df['sentiment'].replace({'sadness':0, 'happiness':1})\n",
    "df.head()"
   ]
  },
  {
   "cell_type": "code",
   "execution_count": 6,
   "id": "c9218f90",
   "metadata": {
    "execution": {
     "iopub.execute_input": "2025-06-16T01:42:18.845547Z",
     "iopub.status.busy": "2025-06-16T01:42:18.843548Z",
     "iopub.status.idle": "2025-06-16T01:42:26.368510Z",
     "shell.execute_reply": "2025-06-16T01:42:26.365512Z"
    }
   },
   "outputs": [
    {
     "name": "stderr",
     "output_type": "stream",
     "text": [
      "[nltk_data] Downloading package stopwords to\n",
      "[nltk_data]     C:\\Users\\Saiful\\AppData\\Roaming\\nltk_data...\n",
      "[nltk_data]   Package stopwords is already up-to-date!\n",
      "[nltk_data] Downloading package wordnet to\n",
      "[nltk_data]     C:\\Users\\Saiful\\AppData\\Roaming\\nltk_data...\n",
      "[nltk_data]   Package wordnet is already up-to-date!\n"
     ]
    }
   ],
   "source": [
    "import nltk\n",
    "nltk.download('stopwords')\n",
    "nltk.download('wordnet')\n",
    "\n",
    "from nltk.corpus import stopwords\n",
    "from nltk.stem import WordNetLemmatizer"
   ]
  },
  {
   "cell_type": "code",
   "execution_count": 7,
   "id": "5709ede1",
   "metadata": {
    "execution": {
     "iopub.execute_input": "2025-06-16T01:42:26.379503Z",
     "iopub.status.busy": "2025-06-16T01:42:26.378506Z",
     "iopub.status.idle": "2025-06-16T01:42:26.417482Z",
     "shell.execute_reply": "2025-06-16T01:42:26.415487Z"
    }
   },
   "outputs": [],
   "source": [
    "# data preprocessing\n",
    "\n",
    "# Define text preprocessing functions\n",
    "def lemmatization(text):\n",
    "    \"\"\"Lemmatize the text.\"\"\"\n",
    "    lemmatizer = WordNetLemmatizer()\n",
    "    text = text.split()\n",
    "    text = [lemmatizer.lemmatize(word) for word in text]\n",
    "    return \" \".join(text)\n",
    "\n",
    "def remove_stop_words(text):\n",
    "    \"\"\"Remove stop words from the text.\"\"\"\n",
    "    stop_words = set(stopwords.words(\"english\"))\n",
    "    text = [word for word in str(text).split() if word not in stop_words]\n",
    "    return \" \".join(text)\n",
    "\n",
    "def removing_numbers(text):\n",
    "    \"\"\"Remove numbers from the text.\"\"\"\n",
    "    text = ''.join([char for char in text if not char.isdigit()])\n",
    "    return text\n",
    "\n",
    "def lower_case(text):\n",
    "    \"\"\"Convert text to lower case.\"\"\"\n",
    "    text = text.split()\n",
    "    text = [word.lower() for word in text]\n",
    "    return \" \".join(text)\n",
    "\n",
    "def removing_punctuations(text):\n",
    "    \"\"\"Remove punctuations from the text.\"\"\"\n",
    "    text = re.sub('[%s]' % re.escape(string.punctuation), ' ', text)\n",
    "    text = text.replace('؛', \"\")\n",
    "    text = re.sub('\\s+', ' ', text).strip()\n",
    "    return text\n",
    "\n",
    "def removing_urls(text):\n",
    "    \"\"\"Remove URLs from the text.\"\"\"\n",
    "    url_pattern = re.compile(r'https?://\\S+|www\\.\\S+')\n",
    "    return url_pattern.sub(r'', text)\n",
    "\n",
    "def normalize_text(df):\n",
    "    \"\"\"Normalize the text data.\"\"\"\n",
    "    try:\n",
    "        df['content'] = df['content'].apply(lower_case)\n",
    "        df['content'] = df['content'].apply(remove_stop_words)\n",
    "        df['content'] = df['content'].apply(removing_numbers)\n",
    "        df['content'] = df['content'].apply(removing_punctuations)\n",
    "        df['content'] = df['content'].apply(removing_urls)\n",
    "        df['content'] = df['content'].apply(lemmatization)\n",
    "        return df\n",
    "    except Exception as e:\n",
    "        print(f'Error during text normalization: {e}')\n",
    "        raise"
   ]
  },
  {
   "cell_type": "code",
   "execution_count": 8,
   "id": "8e217d03",
   "metadata": {
    "execution": {
     "iopub.execute_input": "2025-06-16T01:42:26.428476Z",
     "iopub.status.busy": "2025-06-16T01:42:26.427475Z",
     "iopub.status.idle": "2025-06-16T01:42:50.123471Z",
     "shell.execute_reply": "2025-06-16T01:42:50.121474Z"
    }
   },
   "outputs": [
    {
     "data": {
      "text/html": [
       "<div>\n",
       "<style scoped>\n",
       "    .dataframe tbody tr th:only-of-type {\n",
       "        vertical-align: middle;\n",
       "    }\n",
       "\n",
       "    .dataframe tbody tr th {\n",
       "        vertical-align: top;\n",
       "    }\n",
       "\n",
       "    .dataframe thead th {\n",
       "        text-align: right;\n",
       "    }\n",
       "</style>\n",
       "<table border=\"1\" class=\"dataframe\">\n",
       "  <thead>\n",
       "    <tr style=\"text-align: right;\">\n",
       "      <th></th>\n",
       "      <th>sentiment</th>\n",
       "      <th>content</th>\n",
       "    </tr>\n",
       "  </thead>\n",
       "  <tbody>\n",
       "    <tr>\n",
       "      <th>1</th>\n",
       "      <td>0</td>\n",
       "      <td>layin n bed headache ughhhh waitin call</td>\n",
       "    </tr>\n",
       "    <tr>\n",
       "      <th>2</th>\n",
       "      <td>0</td>\n",
       "      <td>funeral ceremony gloomy friday</td>\n",
       "    </tr>\n",
       "    <tr>\n",
       "      <th>6</th>\n",
       "      <td>0</td>\n",
       "      <td>sleep im not thinking old friend want married ...</td>\n",
       "    </tr>\n",
       "    <tr>\n",
       "      <th>8</th>\n",
       "      <td>0</td>\n",
       "      <td>charviray charlene love miss</td>\n",
       "    </tr>\n",
       "    <tr>\n",
       "      <th>9</th>\n",
       "      <td>0</td>\n",
       "      <td>kelcouch sorry least friday</td>\n",
       "    </tr>\n",
       "  </tbody>\n",
       "</table>\n",
       "</div>"
      ],
      "text/plain": [
       "   sentiment                                            content\n",
       "1          0            layin n bed headache ughhhh waitin call\n",
       "2          0                     funeral ceremony gloomy friday\n",
       "6          0  sleep im not thinking old friend want married ...\n",
       "8          0                       charviray charlene love miss\n",
       "9          0                        kelcouch sorry least friday"
      ]
     },
     "execution_count": 8,
     "metadata": {},
     "output_type": "execute_result"
    }
   ],
   "source": [
    "df = normalize_text(df)\n",
    "df.head()"
   ]
  },
  {
   "cell_type": "code",
   "execution_count": 9,
   "id": "473aae05",
   "metadata": {
    "execution": {
     "iopub.execute_input": "2025-06-16T01:42:50.135465Z",
     "iopub.status.busy": "2025-06-16T01:42:50.134465Z",
     "iopub.status.idle": "2025-06-16T01:42:50.684319Z",
     "shell.execute_reply": "2025-06-16T01:42:50.682319Z"
    }
   },
   "outputs": [],
   "source": [
    "vectorizer = CountVectorizer(max_features=1000)\n",
    "X = vectorizer.fit_transform(df['content'])\n",
    "y = df['sentiment']"
   ]
  },
  {
   "cell_type": "code",
   "execution_count": 10,
   "id": "a0b3e350",
   "metadata": {
    "execution": {
     "iopub.execute_input": "2025-06-16T01:42:50.695314Z",
     "iopub.status.busy": "2025-06-16T01:42:50.694312Z",
     "iopub.status.idle": "2025-06-16T01:42:50.714301Z",
     "shell.execute_reply": "2025-06-16T01:42:50.710303Z"
    }
   },
   "outputs": [],
   "source": [
    "X_train, X_test, y_train,y_test = train_test_split(X,y, test_size=0.2, random_state=42)"
   ]
  },
  {
   "cell_type": "code",
   "execution_count": 11,
   "id": "df475e0a",
   "metadata": {
    "execution": {
     "iopub.execute_input": "2025-06-16T01:42:50.724296Z",
     "iopub.status.busy": "2025-06-16T01:42:50.723297Z",
     "iopub.status.idle": "2025-06-16T01:42:54.855532Z",
     "shell.execute_reply": "2025-06-16T01:42:54.853533Z"
    }
   },
   "outputs": [
    {
     "data": {
      "text/html": [
       "<pre style=\"white-space:pre;overflow-x:auto;line-height:normal;font-family:Menlo,'DejaVu Sans Mono',consolas,'Courier New',monospace\">Accessing as Saiful0044\n",
       "</pre>\n"
      ],
      "text/plain": [
       "Accessing as Saiful0044\n"
      ]
     },
     "metadata": {},
     "output_type": "display_data"
    },
    {
     "data": {
      "text/html": [
       "<pre style=\"white-space:pre;overflow-x:auto;line-height:normal;font-family:Menlo,'DejaVu Sans Mono',consolas,'Courier New',monospace\">Initialized MLflow to track repo <span style=\"color: #008000; text-decoration-color: #008000\">\"Saiful0044/Analyzing-Emotional-Sentiment-in-Tweets-Using-Machine-Learning\"</span>\n",
       "</pre>\n"
      ],
      "text/plain": [
       "Initialized MLflow to track repo \u001b[32m\"Saiful0044/Analyzing-Emotional-Sentiment-in-Tweets-Using-Machine-Learning\"\u001b[0m\n"
      ]
     },
     "metadata": {},
     "output_type": "display_data"
    },
    {
     "data": {
      "text/html": [
       "<pre style=\"white-space:pre;overflow-x:auto;line-height:normal;font-family:Menlo,'DejaVu Sans Mono',consolas,'Courier New',monospace\">Repository Saiful0044/Analyzing-Emotional-Sentiment-in-Tweets-Using-Machine-Learning initialized!\n",
       "</pre>\n"
      ],
      "text/plain": [
       "Repository Saiful0044/Analyzing-Emotional-Sentiment-in-Tweets-Using-Machine-Learning initialized!\n"
      ]
     },
     "metadata": {},
     "output_type": "display_data"
    },
    {
     "data": {
      "text/plain": [
       "<Experiment: artifact_location='mlflow-artifacts:/71cf18d578854fb49c39799fb65a61e8', creation_time=1749970494683, experiment_id='0', last_update_time=1749970494683, lifecycle_stage='active', name='Logistic Regression Baseline', tags={}>"
      ]
     },
     "execution_count": 11,
     "metadata": {},
     "output_type": "execute_result"
    }
   ],
   "source": [
    "import dagshub\n",
    "mlflow.set_tracking_uri(\"https://dagshub.com/Saiful0044/Analyzing-Emotional-Sentiment-in-Tweets-Using-Machine-Learning.mlflow\")\n",
    "\n",
    "dagshub.init(repo_owner='Saiful0044', repo_name='Analyzing-Emotional-Sentiment-in-Tweets-Using-Machine-Learning', mlflow=True)\n",
    "\n",
    "mlflow.set_experiment(\"Logistic Regression Baseline\")"
   ]
  },
  {
   "cell_type": "code",
   "execution_count": 12,
   "id": "1475daa2",
   "metadata": {
    "execution": {
     "iopub.execute_input": "2025-06-16T01:42:54.865527Z",
     "iopub.status.busy": "2025-06-16T01:42:54.864528Z",
     "iopub.status.idle": "2025-06-16T04:04:48.207358Z",
     "shell.execute_reply": "2025-06-16T04:04:48.177376Z"
    }
   },
   "outputs": [
    {
     "name": "stderr",
     "output_type": "stream",
     "text": [
      "2025/06/16 07:43:34 WARNING mlflow.models.model: Model logged without a signature and input example. Please set `input_example` parameter when logging the model to auto infer the model signature.\n"
     ]
    },
    {
     "name": "stdout",
     "output_type": "stream",
     "text": [
      "accuracy:  0.7763855421686747\n",
      "precision:  0.7677356656948494\n",
      "recall:  0.7783251231527094\n",
      "f1 score:  0.7729941291585128\n"
     ]
    },
    {
     "name": "stderr",
     "output_type": "stream",
     "text": [
      "2025/06/16 10:04:47 INFO mlflow.tracking._tracking_service.client: 🏃 View run rogue-sloth-703 at: https://dagshub.com/Saiful0044/Analyzing-Emotional-Sentiment-in-Tweets-Using-Machine-Learning.mlflow/#/experiments/0/runs/3b9079f028724285a5b5cc054e2abeaa.\n",
      "2025/06/16 10:04:47 INFO mlflow.tracking._tracking_service.client: 🧪 View experiment at: https://dagshub.com/Saiful0044/Analyzing-Emotional-Sentiment-in-Tweets-Using-Machine-Learning.mlflow/#/experiments/0.\n"
     ]
    }
   ],
   "source": [
    "with mlflow.start_run():\n",
    "    # log preprocessing parameters\n",
    "    mlflow.log_param('vectorizer', 'Bag of Words')\n",
    "    mlflow.log_param('num_features', 1000)\n",
    "    mlflow.log_param('test_size', 0.2)\n",
    "\n",
    "    # model building and training\n",
    "    model = LogisticRegression()\n",
    "    model.fit(X_train,y_train)\n",
    "\n",
    "    # log model parameters\n",
    "    mlflow.log_param('model', 'Logistic Regression')\n",
    "\n",
    "    # model evaluation\n",
    "    y_pred = model.predict(X_test)\n",
    "    accuracy = accuracy_score(y_test,y_pred)\n",
    "    precision = precision_score(y_test,y_pred)\n",
    "    recall = recall_score(y_test, y_pred)\n",
    "    f1 = f1_score(y_test, y_pred)\n",
    "\n",
    "    # log evaluation metrics\n",
    "    mlflow.log_metric('accuracy', accuracy)\n",
    "    mlflow.log_metric('precision', precision)\n",
    "    mlflow.log_metric('recall', recall)\n",
    "    mlflow.log_metric('f1_score', f1)\n",
    "\n",
    "\n",
    "    # log model\n",
    "    mlflow.sklearn.log_model(model, 'model')\n",
    "\n",
    "    # save and log the notebook\n",
    "    import os\n",
    "    notebook_path = 'exp1_baseline_model.ipynb'\n",
    "    os.system(f\"jupyter nbconvert --to notebook --execute --inplace {notebook_path}\")\n",
    "    mlflow.log_artifact(notebook_path)\n",
    "\n",
    "    # print the results for verification\n",
    "    print('accuracy: ', accuracy)\n",
    "    print('precision: ', precision)\n",
    "    print('recall: ', recall)\n",
    "    print('f1 score: ', f1)"
   ]
  },
  {
   "cell_type": "code",
   "execution_count": null,
   "id": "faf1a7c1",
   "metadata": {},
   "outputs": [],
   "source": []
  }
 ],
 "metadata": {
  "kernelspec": {
   "display_name": "Python 3",
   "language": "python",
   "name": "python3"
  },
  "language_info": {
   "codemirror_mode": {
    "name": "ipython",
    "version": 3
   },
   "file_extension": ".py",
   "mimetype": "text/x-python",
   "name": "python",
   "nbconvert_exporter": "python",
   "pygments_lexer": "ipython3",
   "version": "3.8.8"
  }
 },
 "nbformat": 4,
 "nbformat_minor": 5
}
